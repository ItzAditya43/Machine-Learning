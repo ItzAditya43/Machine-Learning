{
 "cells": [
  {
   "cell_type": "code",
   "execution_count": 11,
   "metadata": {},
   "outputs": [
    {
     "name": "stdout",
     "output_type": "stream",
     "text": [
      "  marketplace  customer_id       review_id  product_id  product_parent  \\\n",
      "0          US     11555559  R1QXC7AHHJBQ3O  B00IKPX4GY         2693241   \n",
      "1          US     31469372  R175VSRV6ZETOP  B00IKPYKWG         2693241   \n",
      "2          US     26843895  R2HRFF78MWGY19  B00IKPW0UA         2693241   \n",
      "3          US     19844868   R8Q39WPKYVSTX  B00LCHSHMS         2693241   \n",
      "4          US      1189852  R3RL4C8YP2ZCJL  B00IKPZ5V6         2693241   \n",
      "\n",
      "                           product_title product_category  star_rating  \\\n",
      "0  Fire HD 7, 7\" HD Display, Wi-Fi, 8 GB               PC            5   \n",
      "1  Fire HD 7, 7\" HD Display, Wi-Fi, 8 GB               PC            3   \n",
      "2  Fire HD 7, 7\" HD Display, Wi-Fi, 8 GB               PC            5   \n",
      "3  Fire HD 7, 7\" HD Display, Wi-Fi, 8 GB               PC            4   \n",
      "4  Fire HD 7, 7\" HD Display, Wi-Fi, 8 GB               PC            5   \n",
      "\n",
      "   helpful_votes  total_votes vine verified_purchase  \\\n",
      "0              0            0    N                 Y   \n",
      "1              0            0    N                 N   \n",
      "2              0            0    N                 Y   \n",
      "3              0            0    N                 N   \n",
      "4              0            0    N                 Y   \n",
      "\n",
      "                                     review_headline  \\\n",
      "0                                         Five Stars   \n",
      "1  Lots of ads Slow processing speed Occasionally...   \n",
      "2                            Well thought out device   \n",
      "3  Not all apps/games we were looking forward to ...   \n",
      "4                                         Five Stars   \n",
      "\n",
      "                                         review_body review_date  sentiment  \n",
      "0                                      Great love it  2015-08-31          1  \n",
      "1  Lots of ads<br />Slow processing speed<br />Oc...  2015-08-31          0  \n",
      "2  Excellent unit.  The versatility of this table...  2015-08-31          1  \n",
      "3  I bought this on Amazon Prime so I ended up bu...  2015-08-31          1  \n",
      "4  All Amazon products continue to meet my expect...  2015-08-31          1  \n"
     ]
    }
   ],
   "source": [
    "import pandas as pd\n",
    "\n",
    "\n",
    "df = pd.read_csv('Amazon-Product-Reviews.csv')\n",
    "\n",
    "print(df.head())\n",
    "\n",
    "\n",
    "# not getting the part on how should I proceed with cleaning and preprocessing the data\n",
    "# I will try to do it myself after some more learning\n",
    "# Link of dataset: https://www.kaggle.com/datasets/miriamodeyianypeter/sentiment-analysis-amazon-product-reviews\n",
    "\n"
   ]
  }
 ],
 "metadata": {
  "kernelspec": {
   "display_name": "Python 3",
   "language": "python",
   "name": "python3"
  },
  "language_info": {
   "codemirror_mode": {
    "name": "ipython",
    "version": 3
   },
   "file_extension": ".py",
   "mimetype": "text/x-python",
   "name": "python",
   "nbconvert_exporter": "python",
   "pygments_lexer": "ipython3",
   "version": "3.12.2"
  }
 },
 "nbformat": 4,
 "nbformat_minor": 2
}
